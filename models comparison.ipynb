{
 "cells": [
  {
   "cell_type": "markdown",
   "id": "5ddc8d01",
   "metadata": {},
   "source": [
    "# Preparation"
   ]
  },
  {
   "cell_type": "code",
   "execution_count": 2,
   "id": "9c741620",
   "metadata": {},
   "outputs": [],
   "source": [
    "import numpy as np\n",
    "import pandas as pd\n",
    "from sklearn.metrics import f1_score\n",
    "from sklearn.model_selection import KFold\n",
    "from sklearn.metrics import accuracy_score\n",
    "\n",
    "data = pd.read_csv('virusshare.csv', sep=',',skiprows=1, header=None).to_numpy()\n",
    "\n",
    "X = data[:,1:]\n",
    "Y = data[:,0]\n",
    "\n",
    "def testModel(model,modelName):\n",
    "    kf = KFold(n_splits=5)\n",
    "    acc_scores = []\n",
    "    f1_scores = []\n",
    "\n",
    "    for train_index, test_index in kf.split(X):\n",
    "        train_X, test_X = X[train_index], X[test_index]\n",
    "        train_Y, test_Y = Y[train_index], Y[test_index]\n",
    "        model.fit(train_X,train_Y)\n",
    "        pred_values = model.predict(test_X)\n",
    "        acc = accuracy_score(pred_values , test_Y)\n",
    "        f1 = f1_score(pred_values , test_Y)\n",
    "        acc_scores.append(acc)\n",
    "        f1_scores.append(f1)\n",
    "\n",
    "    avg_acc_score = sum(acc_scores)/5\n",
    "    avg_f1_score = sum(f1_scores)/5\n",
    "\n",
    "    print('Method: '+modelName)\n",
    "    print('accuracy of each fold - {}'.format(acc_scores))\n",
    "    print('Avg accuracy : {}'.format(avg_acc_score))\n",
    "    print('f1 of each fold - {}'.format(f1_scores))\n",
    "    print('Avg f1 : {}'.format(avg_f1_score))\n",
    "    print('\\n')\n",
    "    return avg_f1_score\n"
   ]
  },
  {
   "cell_type": "markdown",
   "id": "aab29983",
   "metadata": {},
   "source": [
    "# Logistic Regression (Ridge)"
   ]
  },
  {
   "cell_type": "code",
   "execution_count": 16,
   "id": "72f25340",
   "metadata": {},
   "outputs": [
    {
     "name": "stdout",
     "output_type": "stream",
     "text": [
      "Method: Ridge logistic regression\n",
      "accuracy of each fold - [0.745, 0.7335, 0.73875, 0.7425, 0.75275]\n",
      "Avg accuracy : 0.7425\n",
      "f1 of each fold - [0.7615708274894811, 0.7530120481927711, 0.7476454962569427, 0.7581023954908408, 0.7659171597633138]\n",
      "Avg f1 : 0.7572495854386698\n",
      "\n",
      "\n"
     ]
    },
    {
     "data": {
      "text/plain": [
       "0.7572495854386698"
      ]
     },
     "execution_count": 16,
     "metadata": {},
     "output_type": "execute_result"
    }
   ],
   "source": [
    "from sklearn.linear_model import LogisticRegression\n",
    "testModel(LogisticRegression(solver = \"liblinear\", penalty = \"l2\"),\"Ridge logistic regression\")"
   ]
  },
  {
   "cell_type": "markdown",
   "id": "b62306d9",
   "metadata": {},
   "source": [
    "# Logistic Regression (LASSO)"
   ]
  },
  {
   "cell_type": "code",
   "execution_count": 15,
   "id": "e5c3ee29",
   "metadata": {},
   "outputs": [
    {
     "name": "stdout",
     "output_type": "stream",
     "text": [
      "Method: LASSO logistic regression\n",
      "accuracy of each fold - [0.74425, 0.72975, 0.738, 0.74425, 0.7525]\n",
      "Avg accuracy : 0.7417499999999999\n",
      "f1 of each fold - [0.7608136544306757, 0.7513227513227512, 0.7463697967086157, 0.7596899224806202, 0.7658467360454116]\n",
      "Avg f1 : 0.7568085721976148\n",
      "\n",
      "\n"
     ]
    },
    {
     "data": {
      "text/plain": [
       "0.7568085721976148"
      ]
     },
     "execution_count": 15,
     "metadata": {},
     "output_type": "execute_result"
    }
   ],
   "source": [
    "from sklearn.linear_model import LogisticRegression\n",
    "testModel(LogisticRegression(solver = \"liblinear\", penalty = \"l1\"),\"LASSO logistic regression\")"
   ]
  },
  {
   "cell_type": "markdown",
   "id": "cc6ce8b5",
   "metadata": {},
   "source": [
    "# Multilayer Perceptron"
   ]
  },
  {
   "cell_type": "code",
   "execution_count": 14,
   "id": "74fd31f8",
   "metadata": {},
   "outputs": [
    {
     "name": "stdout",
     "output_type": "stream",
     "text": [
      "Method: multilayer perceptron\n",
      "accuracy of each fold - [0.81025, 0.80175, 0.79325, 0.80375, 0.81925]\n",
      "Avg accuracy : 0.80565\n",
      "f1 of each fold - [0.8, 0.791918131723957, 0.773113854595336, 0.7975238586535981, 0.8129366106080207]\n",
      "Avg f1 : 0.7950984911161824\n",
      "\n",
      "\n"
     ]
    },
    {
     "data": {
      "text/plain": [
       "0.7950984911161824"
      ]
     },
     "execution_count": 14,
     "metadata": {},
     "output_type": "execute_result"
    }
   ],
   "source": [
    "from sklearn.neural_network import MLPClassifier\n",
    "testModel(MLPClassifier(solver='sgd', learning_rate = \"adaptive\", learning_rate_init = 0.1, alpha=1e-5,hidden_layer_sizes=(10, 2), random_state=1,max_iter=500),\"multilayer perceptron\")"
   ]
  },
  {
   "cell_type": "markdown",
   "id": "63c65aac",
   "metadata": {},
   "source": [
    "# SVM"
   ]
  },
  {
   "cell_type": "code",
   "execution_count": 13,
   "id": "bfe9c700",
   "metadata": {},
   "outputs": [
    {
     "name": "stdout",
     "output_type": "stream",
     "text": [
      "Method: SVM\n",
      "accuracy of each fold - [0.73825, 0.725, 0.73, 0.73775, 0.7495]\n",
      "Avg accuracy : 0.7361000000000001\n",
      "f1 of each fold - [0.7576949780143486, 0.7467771639042357, 0.7416267942583732, 0.757456647398844, 0.7635677206229352]\n",
      "Avg f1 : 0.7534246608397474\n",
      "\n",
      "\n"
     ]
    },
    {
     "data": {
      "text/plain": [
       "0.7534246608397474"
      ]
     },
     "execution_count": 13,
     "metadata": {},
     "output_type": "execute_result"
    }
   ],
   "source": [
    "from sklearn.svm import LinearSVC\n",
    "testModel(LinearSVC(penalty = \"l1\", loss=\"squared_hinge\",dual=False, max_iter = 10000, tol = 0.001),\"SVM\")"
   ]
  },
  {
   "cell_type": "markdown",
   "id": "021ad073",
   "metadata": {},
   "source": [
    "# Decision Tree"
   ]
  },
  {
   "cell_type": "code",
   "execution_count": 12,
   "id": "40c2a415",
   "metadata": {},
   "outputs": [
    {
     "name": "stdout",
     "output_type": "stream",
     "text": [
      "Method: decision tree\n",
      "accuracy of each fold - [0.80975, 0.80275, 0.80375, 0.80325, 0.80825]\n",
      "Avg accuracy : 0.80555\n",
      "f1 of each fold - [0.8076825878190548, 0.800101342791994, 0.802217183169564, 0.8026084775520442, 0.8098189933052319]\n",
      "Avg f1 : 0.8044857169275778\n",
      "\n",
      "\n"
     ]
    },
    {
     "data": {
      "text/plain": [
       "0.8044857169275778"
      ]
     },
     "execution_count": 12,
     "metadata": {},
     "output_type": "execute_result"
    }
   ],
   "source": [
    "from sklearn.tree import DecisionTreeClassifier\n",
    "testModel(DecisionTreeClassifier(random_state=0),\"decision tree\")"
   ]
  },
  {
   "cell_type": "markdown",
   "id": "de306e0d",
   "metadata": {},
   "source": [
    "# Random Forest"
   ]
  },
  {
   "cell_type": "code",
   "execution_count": 11,
   "id": "ffccc64b",
   "metadata": {
    "scrolled": true
   },
   "outputs": [
    {
     "name": "stdout",
     "output_type": "stream",
     "text": [
      "Method: random forest\n",
      "accuracy of each fold - [0.83425, 0.83525, 0.8355, 0.84075, 0.8385]\n",
      "Avg accuracy : 0.8368500000000001\n",
      "f1 of each fold - [0.8329554043839756, 0.83141468406242, 0.8329101066531234, 0.8397484276729558, 0.8385807096451775]\n",
      "Avg f1 : 0.8351218664835305\n",
      "\n",
      "\n"
     ]
    },
    {
     "data": {
      "text/plain": [
       "0.8351218664835305"
      ]
     },
     "execution_count": 11,
     "metadata": {},
     "output_type": "execute_result"
    }
   ],
   "source": [
    "from sklearn.ensemble import RandomForestClassifier\n",
    "testModel(RandomForestClassifier(max_depth=300, random_state=0),\"random forest\")"
   ]
  },
  {
   "cell_type": "markdown",
   "id": "6f8616a5",
   "metadata": {},
   "source": [
    "# Gaussian Naive Bayes"
   ]
  },
  {
   "cell_type": "code",
   "execution_count": 10,
   "id": "993dbccd",
   "metadata": {},
   "outputs": [
    {
     "name": "stdout",
     "output_type": "stream",
     "text": [
      "Method: Gaussian Naive Bayes\n",
      "accuracy of each fold - [0.544, 0.53425, 0.528, 0.56475, 0.5265]\n",
      "Avg accuracy : 0.5395000000000001\n",
      "f1 of each fold - [0.2935708752904725, 0.28208092485549136, 0.2555205047318612, 0.3397800530906333, 0.2595777951524629]\n",
      "Avg f1 : 0.2861060306241842\n",
      "\n",
      "\n"
     ]
    },
    {
     "data": {
      "text/plain": [
       "0.2861060306241842"
      ]
     },
     "execution_count": 10,
     "metadata": {},
     "output_type": "execute_result"
    }
   ],
   "source": [
    "from sklearn.naive_bayes import GaussianNB\n",
    "testModel(GaussianNB(),\"Gaussian Naive Bayes\")"
   ]
  },
  {
   "cell_type": "markdown",
   "id": "b68e0b15",
   "metadata": {},
   "source": [
    "# k Nearest Neighbors (cosine distance)"
   ]
  },
  {
   "cell_type": "code",
   "execution_count": 9,
   "id": "2f2e717d",
   "metadata": {},
   "outputs": [
    {
     "name": "stdout",
     "output_type": "stream",
     "text": [
      "Method: kNN (cosine)\n",
      "accuracy of each fold - [0.82675, 0.82325, 0.826, 0.83325, 0.8355]\n",
      "Avg accuracy : 0.8289500000000001\n",
      "f1 of each fold - [0.8244236128705347, 0.8195968359275325, 0.8208032955715757, 0.832538287722822, 0.8367245657568239]\n",
      "Avg f1 : 0.8268173195698576\n",
      "\n",
      "\n"
     ]
    },
    {
     "data": {
      "text/plain": [
       "0.8268173195698576"
      ]
     },
     "execution_count": 9,
     "metadata": {},
     "output_type": "execute_result"
    }
   ],
   "source": [
    "from sklearn.neighbors import KNeighborsClassifier\n",
    "testModel(KNeighborsClassifier(n_neighbors=5, metric=\"cosine\"),\"kNN (cosine)\")"
   ]
  },
  {
   "cell_type": "markdown",
   "id": "70008d70",
   "metadata": {},
   "source": [
    "# k Nearest Neighbors (Euclidean distance)"
   ]
  },
  {
   "cell_type": "code",
   "execution_count": 8,
   "id": "541c7622",
   "metadata": {},
   "outputs": [
    {
     "name": "stdout",
     "output_type": "stream",
     "text": [
      "Method: kNN (Euclidean)\n",
      "accuracy of each fold - [0.8235, 0.82025, 0.81925, 0.827, 0.8285]\n",
      "Avg accuracy : 0.8237\n",
      "f1 of each fold - [0.8213562753036437, 0.8147384694666324, 0.8153256704980844, 0.8241869918699187, 0.8277247614264189]\n",
      "Avg f1 : 0.8206664337129397\n",
      "\n",
      "\n"
     ]
    },
    {
     "data": {
      "text/plain": [
       "0.8206664337129397"
      ]
     },
     "execution_count": 8,
     "metadata": {},
     "output_type": "execute_result"
    }
   ],
   "source": [
    "from sklearn.neighbors import KNeighborsClassifier\n",
    "testModel(KNeighborsClassifier(n_neighbors=5, metric=\"euclidean\"),\"kNN (Euclidean)\")"
   ]
  },
  {
   "cell_type": "markdown",
   "id": "ff6986f9",
   "metadata": {},
   "source": [
    "# Ridge Logistic Regression + AdaBoost"
   ]
  },
  {
   "cell_type": "code",
   "execution_count": 7,
   "id": "b70c54aa",
   "metadata": {},
   "outputs": [
    {
     "name": "stdout",
     "output_type": "stream",
     "text": [
      "Method: ridge + AdaBoost\n",
      "accuracy of each fold - [0.699, 0.70925, 0.70275, 0.69725, 0.7175]\n",
      "Avg accuracy : 0.7051499999999999\n",
      "f1 of each fold - [0.702862783810464, 0.7275708596861091, 0.7008805031446541, 0.7057108140947752, 0.7153652392947104]\n",
      "Avg f1 : 0.7104780400061426\n",
      "\n",
      "\n"
     ]
    },
    {
     "data": {
      "text/plain": [
       "0.7104780400061426"
      ]
     },
     "execution_count": 7,
     "metadata": {},
     "output_type": "execute_result"
    }
   ],
   "source": [
    "from sklearn.ensemble import AdaBoostClassifier\n",
    "from sklearn.linear_model import LogisticRegression\n",
    "ridge = LogisticRegression(solver = \"liblinear\",penalty = \"l2\")\n",
    "testModel(AdaBoostClassifier(estimator = ridge, n_estimators=30),\"ridge + AdaBoost\")"
   ]
  },
  {
   "cell_type": "markdown",
   "id": "ca000901",
   "metadata": {},
   "source": [
    "# Random Forest + AdaBoost"
   ]
  },
  {
   "cell_type": "code",
   "execution_count": 6,
   "id": "8e7eeee2",
   "metadata": {},
   "outputs": [
    {
     "name": "stdout",
     "output_type": "stream",
     "text": [
      "Method: random forest + AdaBoost\n",
      "accuracy of each fold - [0.8385, 0.83725, 0.8435, 0.84575, 0.845]\n",
      "Avg accuracy : 0.842\n",
      "f1 of each fold - [0.8366211431461811, 0.8325186519166453, 0.8394871794871795, 0.8447798742138364, 0.8441427853192559]\n",
      "Avg f1 : 0.8395099268166197\n",
      "\n",
      "\n"
     ]
    },
    {
     "data": {
      "text/plain": [
       "0.8395099268166197"
      ]
     },
     "execution_count": 6,
     "metadata": {},
     "output_type": "execute_result"
    }
   ],
   "source": [
    "from sklearn.ensemble import AdaBoostClassifier\n",
    "from sklearn.ensemble import RandomForestClassifier\n",
    "rf = RandomForestClassifier(max_depth=10, random_state=0)\n",
    "testModel(AdaBoostClassifier(estimator = rf, n_estimators=10),\"random forest + AdaBoost\")"
   ]
  },
  {
   "cell_type": "markdown",
   "id": "127c2c0d",
   "metadata": {},
   "source": [
    "# FTRL"
   ]
  },
  {
   "cell_type": "code",
   "execution_count": null,
   "id": "8520207f",
   "metadata": {},
   "outputs": [],
   "source": [
    "import numpy as np\n",
    "from datatable import Frame\n",
    "import pandas as pd\n",
    "from sklearn.metrics import f1_score\n",
    "from sklearn.model_selection import KFold\n",
    "from sklearn.metrics import accuracy_score\n",
    "\n",
    "\n",
    "data = pd.read_csv('virusshare.csv', sep=',',skiprows=1, header=None).to_numpy()\n",
    "\n",
    "X = data[:,1:]\n",
    "Y = data[:,0]\n",
    "\n",
    "def testFTRL(model,modelName):\n",
    "    kf = KFold(n_splits=5)\n",
    "    acc_scores = []\n",
    "    f1_scores = []\n",
    "\n",
    "    for train_index, test_index in kf.split(X):\n",
    "        train_X, test_X = Frame(X[train_index]), Frame(X[test_index])\n",
    "        train_Y, test_Y = Frame(Y[train_index]), Frame(Y[test_index])\n",
    "        model.fit(train_X,train_Y)\n",
    "        pred_values = model.predict(test_X).to_numpy()\n",
    "        pred_values = np.rint(pred_values)\n",
    "        acc = accuracy_score(pred_values, Y[test_index])\n",
    "        f1 = f1_score(pred_values , Y[test_index])\n",
    "        acc_scores.append(acc)\n",
    "        f1_scores.append(f1)\n",
    "\n",
    "    avg_acc_score = sum(acc_scores)/5\n",
    "    avg_f1_score = sum(f1_scores)/5\n",
    "\n",
    "    print('Method: '+modelName)\n",
    "    print('accuracy of each fold - {}'.format(acc_scores))\n",
    "    print('Avg accuracy : {}'.format(avg_acc_score))\n",
    "    print('f1 of each fold - {}'.format(f1_scores))\n",
    "    print('Avg f1 : {}'.format(avg_f1_score))\n",
    "from datatable.models import Ftrl\n",
    "testFTRL(Ftrl(),\"FTRL\")\n"
   ]
  },
  {
   "cell_type": "markdown",
   "id": "8ff3c9ab",
   "metadata": {},
   "source": [
    "Since Jupyter Notebook fails to detect the datatable package, the results are listed in text form.\n",
    "\n",
    "Method: FTRL\n",
    "\n",
    "accuracy of each fold - [0.8065, 0.80125, 0.7935, 0.796, 0.80175]\n",
    "\n",
    "Avg accuracy : 0.7998000000000001\n",
    "\n",
    "f1 of each fold - [0.7913746630727764, 0.785540868626922, 0.7750544662309369, 0.7807630306286942, 0.8050159822965332]\n",
    "\n",
    "Avg f1 : 0.7875498021711725"
   ]
  },
  {
   "cell_type": "markdown",
   "id": "404e3deb",
   "metadata": {},
   "source": [
    "## Dimensionality Reduction (PCA) + Models"
   ]
  },
  {
   "cell_type": "code",
   "execution_count": 3,
   "id": "51b2907d",
   "metadata": {},
   "outputs": [
    {
     "name": "stdout",
     "output_type": "stream",
     "text": [
      "\n",
      "\n",
      "PCA(explained variance=0.7)\n",
      "Method: Ridge logistic regression\n",
      "accuracy of each fold - [0.67475, 0.695, 0.68475, 0.68, 0.685]\n",
      "Avg accuracy : 0.6839000000000001\n",
      "f1 of each fold - [0.6882338844955668, 0.7174617878647522, 0.6873295313662288, 0.6842624568327578, 0.6987087517934002]\n",
      "Avg f1 : 0.6951992824705412\n",
      "\n",
      "\n",
      "Method: LASSO logistic regression\n",
      "accuracy of each fold - [0.6755, 0.69525, 0.6835, 0.6805, 0.684]\n",
      "Avg accuracy : 0.6837500000000001\n",
      "f1 of each fold - [0.6891762452107278, 0.717497103128621, 0.6872529644268774, 0.685066535239034, 0.6971729755630092]\n",
      "Avg f1 : 0.6952331647136539\n",
      "\n",
      "\n",
      "Method: multilayer perceptron\n",
      "accuracy of each fold - [0.79775, 0.7895, 0.79875, 0.80075, 0.80125]\n",
      "Avg accuracy : 0.7976\n",
      "f1 of each fold - [0.7956554685526648, 0.7900249376558603, 0.7943805874840357, 0.8023803620133894, 0.8010012515644556]\n",
      "Avg f1 : 0.7966885214540811\n",
      "\n",
      "\n",
      "Method: SVM\n",
      "accuracy of each fold - [0.68775, 0.686, 0.696, 0.69075, 0.7025]\n",
      "Avg accuracy : 0.6926\n",
      "f1 of each fold - [0.7179950327387673, 0.7226148409893992, 0.7186487737158724, 0.7179019384264539, 0.7305253623188406]\n",
      "Avg f1 : 0.7215371896378666\n",
      "\n",
      "\n",
      "Method: decision tree\n",
      "accuracy of each fold - [0.8005, 0.80125, 0.8035, 0.80175, 0.81]\n",
      "Avg accuracy : 0.8033999999999999\n",
      "f1 of each fold - [0.7997992975413948, 0.7977613838717884, 0.8018154311649016, 0.8004027183488549, 0.8115079365079365]\n",
      "Avg f1 : 0.8022573534869754\n",
      "\n",
      "\n",
      "Method: random forest\n",
      "accuracy of each fold - [0.8335, 0.8345, 0.8365, 0.83625, 0.83975]\n",
      "Avg accuracy : 0.8361000000000001\n",
      "f1 of each fold - [0.8313924050632912, 0.8302564102564103, 0.8327365728900257, 0.8352201257861636, 0.8395494367959949]\n",
      "Avg f1 : 0.8338309901583771\n",
      "\n",
      "\n",
      "Method: Gaussian Naive Bayes\n",
      "accuracy of each fold - [0.562, 0.5445, 0.54625, 0.56225, 0.5485]\n",
      "Avg accuracy : 0.5527000000000001\n",
      "f1 of each fold - [0.32407407407407407, 0.2948916408668731, 0.30003856536829926, 0.315748339194998, 0.3148710166919575]\n",
      "Avg f1 : 0.30992472723924036\n",
      "\n",
      "\n",
      "Method: kNN (cosine)\n",
      "accuracy of each fold - [0.83, 0.826, 0.82775, 0.8275, 0.82875]\n",
      "Avg accuracy : 0.828\n",
      "f1 of each fold - [0.826264690853347, 0.8215384615384614, 0.8258781905483953, 0.8275, 0.8310727496917386]\n",
      "Avg f1 : 0.8264508185263886\n",
      "\n",
      "\n",
      "Method: kNN (Euclidean)\n",
      "accuracy of each fold - [0.829, 0.82, 0.8215, 0.826, 0.82825]\n",
      "Avg accuracy : 0.82495\n",
      "f1 of each fold - [0.8277945619335348, 0.8177215189873418, 0.8175779253960145, 0.826, 0.8285500374344897]\n",
      "Avg f1 : 0.8235288087502761\n",
      "\n",
      "\n",
      "Method: ridge + AdaBoost\n",
      "accuracy of each fold - [0.66375, 0.681, 0.676, 0.67325, 0.67725]\n",
      "Avg accuracy : 0.67425\n",
      "f1 of each fold - [0.6764493625210489, 0.7065317387304508, 0.680473372781065, 0.6781580891406058, 0.6871819723770294]\n",
      "Avg f1 : 0.68575890711004\n",
      "\n",
      "\n",
      "Method: random forest + AdaBoost\n",
      "accuracy of each fold - [0.84075, 0.8395, 0.84075, 0.84275, 0.8445]\n",
      "Avg accuracy : 0.8416499999999999\n",
      "f1 of each fold - [0.8384478823231043, 0.8343653250773994, 0.8367085362727507, 0.8412017167381974, 0.8435613682092556]\n",
      "Avg f1 : 0.8388569657241414\n",
      "\n",
      "\n",
      "\n",
      "\n",
      "PCA(explained variance=0.75)\n",
      "Method: Ridge logistic regression\n",
      "accuracy of each fold - [0.69325, 0.70575, 0.69825, 0.691, 0.7015]\n",
      "Avg accuracy : 0.69795\n",
      "f1 of each fold - [0.6984517080363726, 0.724935732647815, 0.6960463359355326, 0.6900702106318956, 0.7082111436950148]\n",
      "Avg f1 : 0.7035430261893261\n",
      "\n",
      "\n",
      "Method: LASSO logistic regression\n",
      "accuracy of each fold - [0.6945, 0.706, 0.69925, 0.69025, 0.7015]\n",
      "Avg accuracy : 0.6983\n",
      "f1 of each fold - [0.7001962708537783, 0.7247191011235955, 0.69720614145482, 0.6890840652446675, 0.7082111436950148]\n",
      "Avg f1 : 0.7038833444743753\n",
      "\n",
      "\n",
      "Method: multilayer perceptron\n",
      "accuracy of each fold - [0.7785, 0.763, 0.777, 0.77425, 0.77925]\n",
      "Avg accuracy : 0.7744\n",
      "f1 of each fold - [0.7926029962546817, 0.7830663615560641, 0.7898209236569275, 0.7927473031902686, 0.7972445464982778]\n",
      "Avg f1 : 0.791096426231244\n",
      "\n",
      "\n",
      "Method: SVM\n",
      "accuracy of each fold - [0.7075, 0.68575, 0.708, 0.7075, 0.71825]\n",
      "Avg accuracy : 0.7054\n",
      "f1 of each fold - [0.7296672828096118, 0.7141232658630885, 0.7215069146399617, 0.7241867043847241, 0.7386969626709946]\n",
      "Avg f1 : 0.7256362260736762\n",
      "\n",
      "\n",
      "Method: decision tree\n",
      "accuracy of each fold - [0.80325, 0.80225, 0.80325, 0.79825, 0.80475]\n",
      "Avg accuracy : 0.80235\n",
      "f1 of each fold - [0.8015132408575033, 0.7990855981711965, 0.8013127997980308, 0.798501872659176, 0.8070175438596491]\n",
      "Avg f1 : 0.8014862110691112\n",
      "\n",
      "\n",
      "Method: random forest\n",
      "accuracy of each fold - [0.83625, 0.83425, 0.8345, 0.84175, 0.84125]\n",
      "Avg accuracy : 0.8376000000000001\n",
      "f1 of each fold - [0.8343030609663545, 0.830304581520348, 0.8312085670576237, 0.8411543287327479, 0.8414481897627965]\n",
      "Avg f1 : 0.8356837456079742\n",
      "\n",
      "\n",
      "Method: Gaussian Naive Bayes\n",
      "accuracy of each fold - [0.5635, 0.5485, 0.5445, 0.56725, 0.55]\n",
      "Avg accuracy : 0.55475\n",
      "f1 of each fold - [0.33052147239263807, 0.31642694928084786, 0.291601866251944, 0.36336888561971314, 0.3135011441647597]\n",
      "Avg f1 : 0.32308406354198055\n",
      "\n",
      "\n",
      "Method: kNN (cosine)\n",
      "accuracy of each fold - [0.83225, 0.82075, 0.8215, 0.82925, 0.82575]\n",
      "Avg accuracy : 0.8259000000000001\n",
      "f1 of each fold - [0.8312798591903444, 0.8159178433889602, 0.8204225352112675, 0.8318148239349914, 0.8265737745707887]\n",
      "Avg f1 : 0.8252017672592705\n",
      "\n",
      "\n",
      "Method: kNN (Euclidean)\n",
      "accuracy of each fold - [0.83125, 0.82, 0.82, 0.82375, 0.82325]\n",
      "Avg accuracy : 0.82365\n",
      "f1 of each fold - [0.8284625158831005, 0.8177215189873418, 0.8164201937786844, 0.8242333582647718, 0.8239980084640278]\n",
      "Avg f1 : 0.8221671190755855\n",
      "\n",
      "\n",
      "Method: ridge + AdaBoost\n",
      "accuracy of each fold - [0.66475, 0.663, 0.67725, 0.6735, 0.681]\n",
      "Avg accuracy : 0.6718999999999999\n",
      "f1 of each fold - [0.6767895878524947, 0.6792003807710614, 0.6805246226181638, 0.676412289395441, 0.6895377128953771]\n",
      "Avg f1 : 0.6804929187065076\n",
      "\n",
      "\n",
      "Method: random forest + AdaBoost\n",
      "accuracy of each fold - [0.8415, 0.83975, 0.841, 0.84275, 0.848]\n",
      "Avg accuracy : 0.8426\n",
      "f1 of each fold - [0.8394123606889565, 0.8345806451612903, 0.8370066632496156, 0.8417610062893083, 0.8466969238527484]\n",
      "Avg f1 : 0.8398915198483838\n",
      "\n",
      "\n",
      "\n",
      "\n",
      "PCA(explained variance=0.8)\n",
      "Method: Ridge logistic regression\n",
      "accuracy of each fold - [0.70325, 0.71025, 0.70225, 0.6995, 0.7095]\n",
      "Avg accuracy : 0.70495\n",
      "f1 of each fold - [0.7092823903992163, 0.72774254169603, 0.7002265290712307, 0.7017369727047146, 0.7139340226489413]\n",
      "Avg f1 : 0.7105844913040266\n",
      "\n",
      "\n",
      "Method: LASSO logistic regression\n",
      "accuracy of each fold - [0.70375, 0.71, 0.7055, 0.69925, 0.7115]\n",
      "Avg accuracy : 0.7060000000000001\n",
      "f1 of each fold - [0.7094876195145869, 0.7274436090225563, 0.7035732259687971, 0.7015628876209378, 0.7161829808165272]\n",
      "Avg f1 : 0.7116500645886811\n",
      "\n",
      "\n",
      "Method: multilayer perceptron\n",
      "accuracy of each fold - [0.80875, 0.79825, 0.79875, 0.7985, 0.80825]\n",
      "Avg accuracy : 0.8025\n",
      "f1 of each fold - [0.80419759406194, 0.7946042249936371, 0.7884362680683312, 0.7953275774504825, 0.8068496600352556]\n",
      "Avg f1 : 0.7978830649219292\n",
      "\n",
      "\n",
      "Method: SVM\n",
      "accuracy of each fold - [0.69725, 0.7005, 0.71875, 0.71825, 0.70675]\n",
      "Avg accuracy : 0.7083000000000002\n",
      "f1 of each fold - [0.7041290007329587, 0.7221706864564007, 0.7306679435001195, 0.7362508776035571, 0.7138326421078312]\n",
      "Avg f1 : 0.7214102300801735\n",
      "\n",
      "\n",
      "Method: decision tree\n",
      "accuracy of each fold - [0.80675, 0.8055, 0.8045, 0.80425, 0.813]\n",
      "Avg accuracy : 0.8068\n",
      "f1 of each fold - [0.8047486739075526, 0.8024377856780092, 0.8033199195171026, 0.8028204482498111, 0.8148514851485149]\n",
      "Avg f1 : 0.805635662500198\n",
      "\n",
      "\n",
      "Method: random forest\n",
      "accuracy of each fold - [0.83575, 0.83275, 0.83475, 0.842, 0.8375]\n",
      "Avg accuracy : 0.8365500000000001\n",
      "f1 of each fold - [0.833628766776399, 0.8291187739463602, 0.8317638075846272, 0.8412060301507538, 0.8376623376623376]\n",
      "Avg f1 : 0.8346759432240954\n",
      "\n",
      "\n",
      "Method: Gaussian Naive Bayes\n",
      "accuracy of each fold - [0.56525, 0.54625, 0.53, 0.5645, 0.5495]\n",
      "Avg accuracy : 0.5511\n",
      "f1 of each fold - [0.3349904397705545, 0.30592734225621415, 0.24860111910471624, 0.34609609609609604, 0.31116207951070335]\n",
      "Avg f1 : 0.30935541534765687\n",
      "\n",
      "\n",
      "Method: kNN (cosine)\n",
      "accuracy of each fold - [0.82625, 0.82225, 0.824, 0.8305, 0.8265]\n",
      "Avg accuracy : 0.8259000000000001\n",
      "f1 of each fold - [0.822477650063857, 0.8172706245181188, 0.820040899795501, 0.8275686673448626, 0.8276204669647292]\n",
      "Avg f1 : 0.8229956617374137\n",
      "\n",
      "\n",
      "Method: kNN (Euclidean)\n",
      "accuracy of each fold - [0.8305, 0.81825, 0.81725, 0.82375, 0.825]\n",
      "Avg accuracy : 0.82295\n",
      "f1 of each fold - [0.8284412955465587, 0.8152477763659466, 0.8128999232147427, 0.8234410217881292, 0.825]\n",
      "Avg f1 : 0.8210060033830755\n",
      "\n",
      "\n"
     ]
    },
    {
     "name": "stdout",
     "output_type": "stream",
     "text": [
      "Method: ridge + AdaBoost\n",
      "accuracy of each fold - [0.67975, 0.671, 0.6835, 0.682, 0.693]\n",
      "Avg accuracy : 0.6818500000000001\n",
      "f1 of each fold - [0.6880934989043096, 0.682738669238187, 0.6874074074074074, 0.6908118619348567, 0.7013618677042802]\n",
      "Avg f1 : 0.6900826610378082\n",
      "\n",
      "\n",
      "Method: random forest + AdaBoost\n",
      "accuracy of each fold - [0.83975, 0.83775, 0.8415, 0.84275, 0.84475]\n",
      "Avg accuracy : 0.8413\n",
      "f1 of each fold - [0.8369371661154923, 0.8327750579747487, 0.8374358974358973, 0.8419200804222167, 0.8440873713281447]\n",
      "Avg f1 : 0.8386311146552998\n",
      "\n",
      "\n",
      "\n",
      "\n",
      "PCA(explained variance=0.85)\n",
      "Method: Ridge logistic regression\n",
      "accuracy of each fold - [0.71725, 0.7195, 0.70675, 0.7105, 0.71675]\n",
      "Avg accuracy : 0.7141500000000001\n",
      "f1 of each fold - [0.7229977957384276, 0.7382174521698555, 0.7065298974230673, 0.7156188605108056, 0.7211420132906718]\n",
      "Avg f1 : 0.7209012038265655\n",
      "\n",
      "\n",
      "Method: LASSO logistic regression\n",
      "accuracy of each fold - [0.716, 0.7185, 0.7065, 0.7105, 0.71775]\n",
      "Avg accuracy : 0.7138500000000001\n",
      "f1 of each fold - [0.7225207620908647, 0.7374067164179104, 0.7062062062062062, 0.7157584683357879, 0.7222632226322262]\n",
      "Avg f1 : 0.7208310751365992\n",
      "\n",
      "\n",
      "Method: multilayer perceptron\n",
      "accuracy of each fold - [0.78525, 0.77125, 0.78625, 0.788, 0.7965]\n",
      "Avg accuracy : 0.78545\n",
      "f1 of each fold - [0.7486098917178813, 0.7861649918205188, 0.7503649635036497, 0.8005644402634055, 0.7696661007357102]\n",
      "Avg f1 : 0.771074077608233\n",
      "\n",
      "\n",
      "Method: SVM\n",
      "accuracy of each fold - [0.70175, 0.7075, 0.72075, 0.72825, 0.7165]\n",
      "Avg accuracy : 0.71495\n",
      "f1 of each fold - [0.7079559363525092, 0.7356529597830999, 0.736866902237927, 0.7483213706876591, 0.72314453125]\n",
      "Avg f1 : 0.7303883400622391\n",
      "\n",
      "\n",
      "Method: decision tree\n",
      "accuracy of each fold - [0.79925, 0.8025, 0.8035, 0.80325, 0.8085]\n",
      "Avg accuracy : 0.8033999999999999\n",
      "f1 of each fold - [0.7970684862269395, 0.7988798370672098, 0.8023138832997988, 0.802211610957527, 0.8111439842209073]\n",
      "Avg f1 : 0.8023235603544764\n",
      "\n",
      "\n",
      "Method: random forest\n",
      "accuracy of each fold - [0.8335, 0.83425, 0.83625, 0.84, 0.837]\n",
      "Avg accuracy : 0.8362\n",
      "f1 of each fold - [0.8321572580645162, 0.829869130100077, 0.8332909137185034, 0.8392767453540934, 0.8375685102142502]\n",
      "Avg f1 : 0.8344325114902882\n",
      "\n",
      "\n",
      "Method: Gaussian Naive Bayes\n",
      "accuracy of each fold - [0.56375, 0.545, 0.52925, 0.56875, 0.54425]\n",
      "Avg accuracy : 0.5502\n",
      "f1 of each fold - [0.3367540858988977, 0.3079847908745248, 0.2506963788300835, 0.35320584926884135, 0.29749518304431594]\n",
      "Avg f1 : 0.3092272575833327\n",
      "\n",
      "\n",
      "Method: kNN (cosine)\n",
      "accuracy of each fold - [0.82675, 0.822, 0.822, 0.82925, 0.82625]\n",
      "Avg accuracy : 0.8252499999999999\n",
      "f1 of each fold - [0.8237986270022883, 0.8200202224469161, 0.8179959100204499, 0.8276558163007823, 0.8278424572702502]\n",
      "Avg f1 : 0.8234626066081374\n",
      "\n",
      "\n",
      "Method: kNN (Euclidean)\n",
      "accuracy of each fold - [0.834, 0.8235, 0.82075, 0.8235, 0.82725]\n",
      "Avg accuracy : 0.8258000000000001\n",
      "f1 of each fold - [0.8318987341772152, 0.8213562753036437, 0.8181587623636825, 0.8237643534697954, 0.8282376336067611]\n",
      "Avg f1 : 0.8246831517842196\n",
      "\n",
      "\n",
      "Method: ridge + AdaBoost\n",
      "accuracy of each fold - [0.688, 0.68725, 0.68375, 0.70525, 0.69625]\n",
      "Avg accuracy : 0.6920999999999999\n",
      "f1 of each fold - [0.700432069131061, 0.7144487559917828, 0.6892655367231638, 0.7271464938671603, 0.706308919506889]\n",
      "Avg f1 : 0.7075203550440115\n",
      "\n",
      "\n",
      "Method: random forest + AdaBoost\n",
      "accuracy of each fold - [0.83925, 0.83925, 0.8395, 0.8435, 0.84525]\n",
      "Avg accuracy : 0.84135\n",
      "f1 of each fold - [0.8369261983261476, 0.8343210512754444, 0.8357215967246673, 0.8417593528816987, 0.8441983387868109]\n",
      "Avg f1 : 0.8385853075989538\n",
      "\n",
      "\n",
      "\n",
      "\n",
      "PCA(explained variance=0.9)\n",
      "Method: Ridge logistic regression\n",
      "accuracy of each fold - [0.72925, 0.71675, 0.73, 0.7365, 0.7415]\n",
      "Avg accuracy : 0.7308\n",
      "f1 of each fold - [0.7465480926749357, 0.7385183475651973, 0.7383720930232559, 0.750945179584121, 0.7514423076923077]\n",
      "Avg f1 : 0.7451652041079635\n",
      "\n",
      "\n",
      "Method: LASSO logistic regression\n",
      "accuracy of each fold - [0.73, 0.7165, 0.7295, 0.73625, 0.71725]\n",
      "Avg accuracy : 0.7259\n",
      "f1 of each fold - [0.7470725995316161, 0.7379852125693162, 0.7380145278450364, 0.7508854781582054, 0.7181659606279591]\n",
      "Avg f1 : 0.7384247557464265\n",
      "\n",
      "\n",
      "Method: multilayer perceptron\n",
      "accuracy of each fold - [0.80725, 0.80225, 0.80125, 0.7865, 0.804]\n",
      "Avg accuracy : 0.8002500000000001\n",
      "f1 of each fold - [0.8064273160933969, 0.8034782608695652, 0.7981721249047983, 0.7921129503407984, 0.8061325420375866]\n",
      "Avg f1 : 0.801264638849229\n",
      "\n",
      "\n",
      "Method: SVM\n",
      "accuracy of each fold - [0.72575, 0.71975, 0.718, 0.73825, 0.744]\n",
      "Avg accuracy : 0.72915\n",
      "f1 of each fold - [0.7445867287543655, 0.7440054807033569, 0.7305303392259913, 0.7596970392471886, 0.755023923444976]\n",
      "Avg f1 : 0.7467687022751757\n",
      "\n",
      "\n",
      "Method: decision tree\n",
      "accuracy of each fold - [0.79975, 0.79875, 0.7995, 0.8, 0.808]\n",
      "Avg accuracy : 0.8012\n",
      "f1 of each fold - [0.7973690867695422, 0.7970758759768086, 0.7972699696663296, 0.7988939165409754, 0.8098068350668648]\n",
      "Avg f1 : 0.8000831368041041\n",
      "\n",
      "\n",
      "Method: random forest\n",
      "accuracy of each fold - [0.836, 0.8345, 0.8385, 0.83725, 0.83375]\n",
      "Avg accuracy : 0.8360000000000001\n",
      "f1 of each fold - [0.8354239839438032, 0.8301693175987686, 0.8354559347936833, 0.837046307884856, 0.8338745940544592]\n",
      "Avg f1 : 0.8343940276551141\n",
      "\n",
      "\n",
      "Method: Gaussian Naive Bayes\n",
      "accuracy of each fold - [0.559, 0.5335, 0.52825, 0.56125, 0.52775]\n",
      "Avg accuracy : 0.5419500000000002\n",
      "f1 of each fold - [0.33131159969673996, 0.283410138248848, 0.25326474079936684, 0.3379856657864957, 0.25834314880251275]\n",
      "Avg f1 : 0.29286305866679263\n",
      "\n",
      "\n",
      "Method: kNN (cosine)\n",
      "accuracy of each fold - [0.82725, 0.82075, 0.8205, 0.82875, 0.83125]\n",
      "Avg accuracy : 0.8257\n",
      "f1 of each fold - [0.8237694465697525, 0.8161066940241087, 0.816743236345074, 0.8287928017995501, 0.830103196576894]\n",
      "Avg f1 : 0.8231030750630758\n",
      "\n",
      "\n",
      "Method: kNN (Euclidean)\n",
      "accuracy of each fold - [0.8305, 0.821, 0.81825, 0.82475, 0.83]\n",
      "Avg accuracy : 0.8248999999999999\n",
      "f1 of each fold - [0.8274809160305342, 0.8184584178498986, 0.8149656401119878, 0.8245306633291615, 0.8302546180728906]\n",
      "Avg f1 : 0.8231380510788945\n",
      "\n",
      "\n",
      "Method: ridge + AdaBoost\n",
      "accuracy of each fold - [0.68725, 0.68675, 0.69675, 0.6845, 0.70175]\n",
      "Avg accuracy : 0.6914\n",
      "f1 of each fold - [0.6974607013301088, 0.6953561876975444, 0.6957612239779283, 0.6885488647581441, 0.707239263803681]\n",
      "Avg f1 : 0.6968732483134813\n",
      "\n",
      "\n",
      "Method: random forest + AdaBoost\n",
      "accuracy of each fold - [0.83775, 0.8385, 0.843, 0.84475, 0.844]\n",
      "Avg accuracy : 0.8416\n",
      "f1 of each fold - [0.835986858731362, 0.8330749354005168, 0.8391393442622951, 0.843142207628189, 0.8432160804020101]\n",
      "Avg f1 : 0.8389118852848746\n",
      "\n",
      "\n",
      "\n",
      "\n",
      "PCA(explained variance=0.95)\n",
      "Method: Ridge logistic regression\n",
      "accuracy of each fold - [0.745, 0.7335, 0.73875, 0.7425, 0.75275]\n",
      "Avg accuracy : 0.7425\n",
      "f1 of each fold - [0.7615708274894811, 0.7530120481927711, 0.7476454962569427, 0.7581023954908408, 0.7659171597633138]\n",
      "Avg f1 : 0.7572495854386698\n",
      "\n",
      "\n",
      "Method: LASSO logistic regression\n",
      "accuracy of each fold - [0.74425, 0.72975, 0.738, 0.7445, 0.7525]\n",
      "Avg accuracy : 0.7417999999999999\n",
      "f1 of each fold - [0.7608136544306757, 0.7513227513227512, 0.7463697967086157, 0.7599812118365431, 0.7658467360454116]\n",
      "Avg f1 : 0.7568668300687994\n",
      "\n",
      "\n",
      "Method: multilayer perceptron\n",
      "accuracy of each fold - [0.81025, 0.80175, 0.79325, 0.80375, 0.81925]\n",
      "Avg accuracy : 0.80565\n",
      "f1 of each fold - [0.8, 0.791918131723957, 0.773113854595336, 0.7975238586535981, 0.8129366106080207]\n",
      "Avg f1 : 0.7950984911161824\n",
      "\n",
      "\n",
      "Method: SVM\n",
      "accuracy of each fold - [0.73525, 0.7255, 0.73025, 0.741, 0.74925]\n",
      "Avg accuracy : 0.73625\n",
      "f1 of each fold - [0.7548043528594582, 0.7472375690607735, 0.741927768476441, 0.7595171773444753, 0.7632759027613878]\n",
      "Avg f1 : 0.7533525541005073\n",
      "\n",
      "\n",
      "Method: decision tree\n",
      "accuracy of each fold - [0.80975, 0.80275, 0.80375, 0.80325, 0.80825]\n",
      "Avg accuracy : 0.80555\n",
      "f1 of each fold - [0.8076825878190548, 0.800101342791994, 0.802217183169564, 0.8026084775520442, 0.8098189933052319]\n",
      "Avg f1 : 0.8044857169275778\n",
      "\n",
      "\n",
      "Method: random forest\n",
      "accuracy of each fold - [0.83425, 0.83525, 0.8355, 0.84075, 0.8385]\n",
      "Avg accuracy : 0.8368500000000001\n",
      "f1 of each fold - [0.8329554043839756, 0.83141468406242, 0.8329101066531234, 0.8397484276729558, 0.8385807096451775]\n",
      "Avg f1 : 0.8351218664835305\n",
      "\n",
      "\n",
      "Method: Gaussian Naive Bayes\n",
      "accuracy of each fold - [0.544, 0.53425, 0.528, 0.56475, 0.5265]\n",
      "Avg accuracy : 0.5395000000000001\n",
      "f1 of each fold - [0.2935708752904725, 0.28208092485549136, 0.2555205047318612, 0.3397800530906333, 0.2595777951524629]\n",
      "Avg f1 : 0.2861060306241842\n",
      "\n",
      "\n"
     ]
    },
    {
     "name": "stdout",
     "output_type": "stream",
     "text": [
      "Method: kNN (cosine)\n",
      "accuracy of each fold - [0.82675, 0.82325, 0.826, 0.83325, 0.8355]\n",
      "Avg accuracy : 0.8289500000000001\n",
      "f1 of each fold - [0.8244236128705347, 0.8195968359275325, 0.8208032955715757, 0.832538287722822, 0.8367245657568239]\n",
      "Avg f1 : 0.8268173195698576\n",
      "\n",
      "\n",
      "Method: kNN (Euclidean)\n",
      "accuracy of each fold - [0.8235, 0.82025, 0.81925, 0.827, 0.8285]\n",
      "Avg accuracy : 0.8237\n",
      "f1 of each fold - [0.8213562753036437, 0.8147384694666324, 0.8153256704980844, 0.8241869918699187, 0.8277247614264189]\n",
      "Avg f1 : 0.8206664337129397\n",
      "\n",
      "\n",
      "Method: ridge + AdaBoost\n",
      "accuracy of each fold - [0.699, 0.70925, 0.70275, 0.69725, 0.7175]\n",
      "Avg accuracy : 0.7051499999999999\n",
      "f1 of each fold - [0.702862783810464, 0.7275708596861091, 0.7008805031446541, 0.7057108140947752, 0.7153652392947104]\n",
      "Avg f1 : 0.7104780400061426\n",
      "\n",
      "\n",
      "Method: random forest + AdaBoost\n",
      "accuracy of each fold - [0.8385, 0.84, 0.8435, 0.8435, 0.84475]\n",
      "Avg accuracy : 0.8420500000000001\n",
      "f1 of each fold - [0.8365384615384617, 0.8345398138572905, 0.8398976982097187, 0.8415991902834009, 0.8441656210790465]\n",
      "Avg f1 : 0.8393481569935837\n",
      "\n",
      "\n",
      "[0.6951992824705412, 0.7035430261893261, 0.7105844913040266, 0.7209012038265655, 0.7451652041079635, 0.7572495854386698]\n",
      "[0.6952331647136539, 0.7038833444743753, 0.7116500645886811, 0.7208310751365992, 0.7384247557464265, 0.7568668300687994]\n",
      "[0.7966885214540811, 0.791096426231244, 0.7978830649219292, 0.771074077608233, 0.801264638849229, 0.7950984911161824]\n",
      "[0.7215371896378666, 0.7256362260736762, 0.7214102300801735, 0.7303883400622391, 0.7467687022751757, 0.7533525541005073]\n",
      "[0.8022573534869754, 0.8014862110691112, 0.805635662500198, 0.8023235603544764, 0.8000831368041041, 0.8044857169275778]\n",
      "[0.8338309901583771, 0.8356837456079742, 0.8346759432240954, 0.8344325114902882, 0.8343940276551141, 0.8351218664835305]\n",
      "[0.30992472723924036, 0.32308406354198055, 0.30935541534765687, 0.3092272575833327, 0.29286305866679263, 0.2861060306241842]\n",
      "[0.8264508185263886, 0.8252017672592705, 0.8229956617374137, 0.8234626066081374, 0.8231030750630758, 0.8268173195698576]\n",
      "[0.8235288087502761, 0.8221671190755855, 0.8210060033830755, 0.8246831517842196, 0.8231380510788945, 0.8206664337129397]\n",
      "[0.68575890711004, 0.6804929187065076, 0.6900826610378082, 0.7075203550440115, 0.6968732483134813, 0.7104780400061426]\n",
      "[0.8388569657241414, 0.8398915198483838, 0.8386311146552998, 0.8385853075989538, 0.8389118852848746, 0.8393481569935837]\n"
     ]
    }
   ],
   "source": [
    "import warnings\n",
    "with warnings.catch_warnings():\n",
    "    warnings.filterwarnings('ignore')\n",
    "    from sklearn.linear_model import LogisticRegression\n",
    "    from sklearn.neural_network import MLPClassifier\n",
    "    from sklearn.neural_network import MLPClassifier\n",
    "    from sklearn.svm import LinearSVC\n",
    "    from sklearn.tree import DecisionTreeClassifier\n",
    "    from sklearn.ensemble import RandomForestClassifier\n",
    "    from sklearn.naive_bayes import GaussianNB\n",
    "    from sklearn.neighbors import KNeighborsClassifier\n",
    "    from sklearn.neighbors import KNeighborsClassifier\n",
    "    from sklearn.ensemble import AdaBoostClassifier\n",
    "\n",
    "variation = [0.7, 0.75, 0.8, 0.85, 0.9, 0.95]\n",
    "avgF1_LR_Ridge=[]\n",
    "avgF1_LR_LASSO=[]\n",
    "avgF1_MLP=[]\n",
    "avgF1_LinearSVC=[]\n",
    "avgF1_dTree=[]\n",
    "avgF1_randomForest=[]\n",
    "avgF1_gaussianNB=[]\n",
    "avgF1_knn_Cosine=[]\n",
    "avgF1_knn_Euclidean=[]\n",
    "avgF1_ada_ridge=[]\n",
    "avgF1_ada_rf=[]\n",
    "for i in variation:\n",
    "    print(\"\\n\\nPCA(explained variance={})\".format(i))\n",
    "    fileName_X=\"X_pca{}.csv\".format(i)\n",
    "    X = pd.read_csv(fileName_X,sep=',',skiprows=1, header=None).to_numpy()\n",
    "    \n",
    "    avgF1_LR_Ridge.append(testModel(LogisticRegression(solver = \"liblinear\", penalty = \"l2\"),\"Ridge logistic regression\"))\n",
    "    avgF1_LR_LASSO.append(testModel(LogisticRegression(solver = \"liblinear\", penalty = \"l1\"),\"LASSO logistic regression\"))\n",
    "    avgF1_MLP.append(testModel(MLPClassifier(solver='sgd', learning_rate = \"adaptive\", learning_rate_init = 0.1, alpha=1e-5,hidden_layer_sizes=(10, 2), random_state=1,max_iter=500),\"multilayer perceptron\"))\n",
    "    avgF1_LinearSVC.append(testModel(LinearSVC(penalty = \"l1\", loss=\"squared_hinge\",dual=False, max_iter = 10000, tol = 0.002),\"SVM\"))\n",
    "    avgF1_dTree.append(testModel(DecisionTreeClassifier(random_state=0),\"decision tree\"))\n",
    "    avgF1_randomForest.append(testModel(RandomForestClassifier(max_depth=300, random_state=0),\"random forest\"))\n",
    "    avgF1_gaussianNB.append(testModel(GaussianNB(),\"Gaussian Naive Bayes\"))\n",
    "    avgF1_knn_Cosine.append(testModel(KNeighborsClassifier(n_neighbors=5, metric=\"cosine\"),\"kNN (cosine)\"))\n",
    "    avgF1_knn_Euclidean.append(testModel(KNeighborsClassifier(n_neighbors=5, metric=\"euclidean\"),\"kNN (Euclidean)\"))\n",
    "    \n",
    "    ridge = LogisticRegression(solver = \"liblinear\",penalty = \"l2\")\n",
    "    avgF1_ada_ridge.append(testModel(AdaBoostClassifier(estimator = ridge, n_estimators=30),\"ridge + AdaBoost\"))\n",
    "    rf = RandomForestClassifier(max_depth=10, random_state=0)\n",
    "    avgF1_ada_rf.append(testModel(AdaBoostClassifier(estimator = rf, n_estimators=10),\"random forest + AdaBoost\"))\n",
    "    \n",
    "print(avgF1_LR_Ridge)\n",
    "print(avgF1_LR_LASSO)\n",
    "print(avgF1_MLP)\n",
    "print(avgF1_LinearSVC)\n",
    "print(avgF1_dTree)\n",
    "print(avgF1_randomForest)\n",
    "print(avgF1_gaussianNB)\n",
    "print(avgF1_knn_Cosine)\n",
    "print(avgF1_knn_Euclidean)\n",
    "print(avgF1_ada_ridge)\n",
    "print(avgF1_ada_rf)"
   ]
  },
  {
   "cell_type": "code",
   "execution_count": 5,
   "id": "02d7ada1",
   "metadata": {},
   "outputs": [
    {
     "data": {
      "image/png": "[encoded data removed]",
      "text/plain": [
       "<Figure size 640x480 with 1 Axes>"
      ]
     },
     "metadata": {},
     "output_type": "display_data"
    }
   ],
   "source": [
    "import matplotlib.pyplot as plt\n",
    "\n",
    "plt.plot(variation, avgF1_LR_Ridge,label=\"LR_Rige\")\n",
    "plt.plot(variation, avgF1_LR_LASSO,label=\"LR_LASSO\")\n",
    "plt.plot(variation, avgF1_MLP,label=\"MLP\")\n",
    "plt.plot(variation, avgF1_LinearSVC,label=\"LinearSVC\")\n",
    "plt.plot(variation, avgF1_dTree,label=\"dTree\")\n",
    "plt.plot(variation, avgF1_randomForest,label=\"RandomForest\")\n",
    "plt.plot(variation, avgF1_gaussianNB,label=\"gaussian NB\")\n",
    "plt.plot(variation, avgF1_knn_Cosine,label=\"KNN(Cosine)\")\n",
    "plt.plot(variation, avgF1_knn_Euclidean,label=\"KNN(Euclidean)\")\n",
    "plt.plot(variation, avgF1_ada_ridge,label=\"AdaBoost + Ridge Regression\")\n",
    "plt.plot(variation, avgF1_ada_rf,label=\"AdaBoost + Random Forest\")\n",
    "\n",
    "plt.xlabel('Explained variance(PCA)')\n",
    "plt.ylabel('average F1 score')  \n",
    "plt.legend()\n",
    "plt.show()"
   ]
  },
  {
   "cell_type": "markdown",
   "id": "a0212ee5",
   "metadata": {},
   "source": [
    "# FTRL on PCA results"
   ]
  },
  {
   "cell_type": "code",
   "execution_count": 4,
   "id": "a8154cad",
   "metadata": {},
   "outputs": [
    {
     "data": {
      "image/png": "[encoded data removed]",
      "text/plain": [
       "<Figure size 640x480 with 1 Axes>"
      ]
     },
     "metadata": {},
     "output_type": "display_data"
    }
   ],
   "source": [
    "variation = [0.7, 0.75, 0.8, 0.85, 0.9, 0.95]\n",
    "avgF1_FTRL = [0.5505569104412424,0.5672164727434431,0.5789080416676214,0.5887889355413057,0.6030751322497412,0.6094577697439989]\n",
    "plt.plot(variation, avgF1_FTRL,label=\"FTRL\")\n",
    "plt.xlabel('Explained variance(PCA)')\n",
    "plt.ylabel('average F1 score')  \n",
    "plt.legend()\n",
    "plt.show()"
   ]
  }
 ],
 "metadata": {
  "kernelspec": {
   "display_name": "Python 3 (ipykernel)",
   "language": "python",
   "name": "python3"
  },
  "language_info": {
   "codemirror_mode": {
    "name": "ipython",
    "version": 3
   },
   "file_extension": ".py",
   "mimetype": "text/x-python",
   "name": "python",
   "nbconvert_exporter": "python",
   "pygments_lexer": "ipython3",
   "version": "3.10.9"
  }
 },
 "nbformat": 4,
 "nbformat_minor": 5
}
